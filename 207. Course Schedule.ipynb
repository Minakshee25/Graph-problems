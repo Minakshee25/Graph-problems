{
 "cells": [
  {
   "cell_type": "code",
   "execution_count": 11,
   "metadata": {},
   "outputs": [],
   "source": [
    "class Solution(object):\n",
    "    def canFinish(self, n, p):\n",
    "        adjlist = {i:[] for i in range(n)}\n",
    "        for i in p:\n",
    "            adjlist[i[0]].append(i[1])\n",
    "        print(adjlist)\n",
    "        visited = set()\n",
    "        def dfs(crs):\n",
    "            if crs in visited:\n",
    "                return False\n",
    "            if adjlist[crs] == []:\n",
    "                return True\n",
    "            visited.add(crs)\n",
    "            for pre in adjlist[crs]:\n",
    "                if(dfs(pre)==False):\n",
    "                    return False\n",
    "            visited.remove(crs)\n",
    "            adjlist[crs]=[]\n",
    "            return True\n",
    "        for i in range(n):\n",
    "            if(dfs(i)==False):\n",
    "                return False\n",
    "        return True"
   ]
  },
  {
   "cell_type": "code",
   "execution_count": 13,
   "metadata": {},
   "outputs": [
    {
     "name": "stdout",
     "output_type": "stream",
     "text": [
      "{0: [], 1: [0]}\n"
     ]
    },
    {
     "data": {
      "text/plain": [
       "True"
      ]
     },
     "execution_count": 13,
     "metadata": {},
     "output_type": "execute_result"
    }
   ],
   "source": [
    "numCourses=2\n",
    "prerequisites=[[1,0]]\n",
    "obj=Solution()\n",
    "obj.canFinish(numCourses,prerequisites)"
   ]
  },
  {
   "cell_type": "code",
   "execution_count": null,
   "metadata": {},
   "outputs": [],
   "source": []
  }
 ],
 "metadata": {
  "kernelspec": {
   "display_name": "Python 3",
   "language": "python",
   "name": "python3"
  },
  "language_info": {
   "codemirror_mode": {
    "name": "ipython",
    "version": 3
   },
   "file_extension": ".py",
   "mimetype": "text/x-python",
   "name": "python",
   "nbconvert_exporter": "python",
   "pygments_lexer": "ipython3",
   "version": "3.7.6"
  }
 },
 "nbformat": 4,
 "nbformat_minor": 4
}
