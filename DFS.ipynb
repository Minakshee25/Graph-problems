{
 "cells": [
  {
   "cell_type": "code",
   "execution_count": 10,
   "metadata": {},
   "outputs": [
    {
     "name": "stdout",
     "output_type": "stream",
     "text": [
      "Enter E and V = 4 5\n",
      "1 2\n",
      "1 3\n",
      "1 4\n",
      "3 5\n",
      "1\n",
      "2\n",
      "3\n",
      "5\n",
      "4\n"
     ]
    }
   ],
   "source": [
    "visited = [0]*5\n",
    "adj = [[0]*5 for i in range(10)]\n",
    "def dfs(n,V):\n",
    "    visited[n] = 1\n",
    "    print(n+1)\n",
    "    for i in range(V):\n",
    "        if(adj[n][i] == 1 and visited[i]==0):\n",
    "            dfs(i,V)\n",
    "if __name__=='__main__':\n",
    "    E,V = map(int,input(\"Enter E and V = \").split())\n",
    "    for i in range(E):\n",
    "        u,v = map(int,input().split())\n",
    "        adj[u-1][v-1] = adj[v-1][u-1] = 1\n",
    "    n=1\n",
    "    dfs(n-1,V)"
   ]
  },
  {
   "cell_type": "code",
   "execution_count": 11,
   "metadata": {},
   "outputs": [
    {
     "name": "stdout",
     "output_type": "stream",
     "text": [
      "5 5 3 5\n",
      "1 2\n",
      "1 3\n",
      "2 4\n",
      "1 4\n",
      "2 5\n",
      "11\n"
     ]
    }
   ],
   "source": []
  },
  {
   "cell_type": "code",
   "execution_count": null,
   "metadata": {},
   "outputs": [],
   "source": []
  }
 ],
 "metadata": {
  "kernelspec": {
   "display_name": "Python 3",
   "language": "python",
   "name": "python3"
  },
  "language_info": {
   "codemirror_mode": {
    "name": "ipython",
    "version": 3
   },
   "file_extension": ".py",
   "mimetype": "text/x-python",
   "name": "python",
   "nbconvert_exporter": "python",
   "pygments_lexer": "ipython3",
   "version": "3.7.6"
  }
 },
 "nbformat": 4,
 "nbformat_minor": 4
}
