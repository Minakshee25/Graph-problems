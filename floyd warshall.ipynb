{
 "cells": [
  {
   "cell_type": "code",
   "execution_count": 1,
   "metadata": {},
   "outputs": [
    {
     "name": "stdout",
     "output_type": "stream",
     "text": [
      "[[0, 1, 4, 3, 8, 7], [9223372036854775807, 0, 4, 2, 7, 6], [9223372036854775807, 9223372036854775807, 0, 3, 4, 7], [9223372036854775807, 9223372036854775807, 9223372036854775807, 0, 9, 4], [9223372036854775807, 9223372036854775807, 9223372036854775807, 3, 0, 7], [9223372036854775807, 9223372036854775807, 9223372036854775807, 8, 5, 0]]\n"
     ]
    }
   ],
   "source": [
    "import sys\n",
    "def FW(mat,V):\n",
    "    dist=[[0]*V for i in range(V)]\n",
    "    for i in range(V):\n",
    "        for j in range(V):\n",
    "            dist[i][j] = mat[i][j]\n",
    "\n",
    "    for k in range(V):\n",
    "        for i in range(V):\n",
    "            for j in range(V):\n",
    "                if (dist[i][k]==INT_MAX or dist[k][j]==INT_MAX):\n",
    "                    continue\n",
    "                elif (dist[i][k] + dist[k][j] < dist[i][j]):\n",
    "                    dist[i][j] = dist[i][k] + dist[k][j]\n",
    "\n",
    "    for i in range(V):\n",
    "        if dist[i][i] < 0:\n",
    "            print(\"negative weight cycle\")\n",
    "            return\n",
    "    print(dist)\n",
    "\n",
    "INT_MAX = sys.maxsize\n",
    "mat =  [ [0, 1, 4, INT_MAX, INT_MAX, INT_MAX],\n",
    "            [INT_MAX, 0, 4, 2, 7, INT_MAX],\n",
    "            [INT_MAX, INT_MAX, 0, 3, 4, INT_MAX],\n",
    "            [INT_MAX, INT_MAX, INT_MAX, 0, INT_MAX, 4],\n",
    "            [INT_MAX, INT_MAX, INT_MAX, 3, 0, INT_MAX],\n",
    "            [INT_MAX, INT_MAX, INT_MAX, INT_MAX, 5, 0] ]\n",
    "\n",
    "FW(mat,len(mat[0]))"
   ]
  },
  {
   "cell_type": "code",
   "execution_count": null,
   "metadata": {},
   "outputs": [],
   "source": []
  }
 ],
 "metadata": {
  "kernelspec": {
   "display_name": "Python 3",
   "language": "python",
   "name": "python3"
  },
  "language_info": {
   "codemirror_mode": {
    "name": "ipython",
    "version": 3
   },
   "file_extension": ".py",
   "mimetype": "text/x-python",
   "name": "python",
   "nbconvert_exporter": "python",
   "pygments_lexer": "ipython3",
   "version": "3.7.6"
  }
 },
 "nbformat": 4,
 "nbformat_minor": 4
}
