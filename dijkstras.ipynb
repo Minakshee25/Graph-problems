{
 "cells": [
  {
   "cell_type": "code",
   "execution_count": null,
   "metadata": {},
   "outputs": [],
   "source": []
  },
  {
   "cell_type": "code",
   "execution_count": 17,
   "metadata": {},
   "outputs": [],
   "source": [
    "def dijkstras(w,r,V,E):\n",
    "    d=[9999]*V\n",
    "    pi=[-1]*V\n",
    "    print(d,pi)\n",
    "    \n",
    "    d[r]=0\n",
    "    Q=[]\n",
    "    for i in range(V):\n",
    "        Q.append(i)\n",
    "    print(Q)\n",
    "    \n",
    "    \n",
    "    while(len(Q)!=0):\n",
    "        # to extract minimum from queue\n",
    "        print(\"d,Q\",d,Q)\n",
    "        k=d[Q[0]]\n",
    "        u=Q[0]\n",
    "        for i in Q:\n",
    "            print(\"before i,d[i],u,k\",i,d[i],u,k)\n",
    "            if(d[i]<k):\n",
    "                print(u,i,k)\n",
    "                k=d[i]\n",
    "                u=i\n",
    "            print(\"after i,d[i],u,k\",i,d[i],u,k)\n",
    "        Q.remove(u)\n",
    "        print(\"\\nd\",d)\n",
    "        print(\"Q,u =\",Q,u)\n",
    "\n",
    "        # to find adj of u and those in Q\n",
    "        adj=[]\n",
    "        for i in range(V):\n",
    "            if(w[i][u]!=0 and (i in Q)):\n",
    "                adj.append(i)\n",
    "        print(\"adj = \",adj)\n",
    "\n",
    "\n",
    "    #     for loop\n",
    "        for v in adj:\n",
    "            print(\"u,v and all = \",u,v,d[u] + w[u][v],d[v])\n",
    "            if(d[u]+w[u][v] < d[v]):\n",
    "                d[v] = d[u] + w[u][v]\n",
    "                pi[v] = u\n",
    "            print(\"d[v],pi[v] = \",d[v],pi[v])\n",
    "    print(d,pi)"
   ]
  },
  {
   "cell_type": "code",
   "execution_count": 18,
   "metadata": {},
   "outputs": [
    {
     "name": "stdout",
     "output_type": "stream",
     "text": [
      "[9999, 9999, 9999, 9999, 9999] [-1, -1, -1, -1, -1]\n",
      "[0, 1, 2, 3, 4]\n",
      "d,Q [0, 9999, 9999, 9999, 9999] [0, 1, 2, 3, 4]\n",
      "before i,d[i],u,k 0 0 0 0\n",
      "after i,d[i],u,k 0 0 0 0\n",
      "before i,d[i],u,k 1 9999 0 0\n",
      "after i,d[i],u,k 1 9999 0 0\n",
      "before i,d[i],u,k 2 9999 0 0\n",
      "after i,d[i],u,k 2 9999 0 0\n",
      "before i,d[i],u,k 3 9999 0 0\n",
      "after i,d[i],u,k 3 9999 0 0\n",
      "before i,d[i],u,k 4 9999 0 0\n",
      "after i,d[i],u,k 4 9999 0 0\n",
      "\n",
      "d [0, 9999, 9999, 9999, 9999]\n",
      "Q,u = [1, 2, 3, 4] 0\n",
      "adj =  [1, 2, 3]\n",
      "u,v and all =  0 1 230 9999\n",
      "d[v],pi[v] =  230 0\n",
      "u,v and all =  0 2 60 9999\n",
      "d[v],pi[v] =  60 0\n",
      "u,v and all =  0 3 100 9999\n",
      "d[v],pi[v] =  100 0\n",
      "d,Q [0, 230, 60, 100, 9999] [1, 2, 3, 4]\n",
      "before i,d[i],u,k 1 230 1 230\n",
      "after i,d[i],u,k 1 230 1 230\n",
      "before i,d[i],u,k 2 60 1 230\n",
      "1 2 230\n",
      "after i,d[i],u,k 2 60 2 60\n",
      "before i,d[i],u,k 3 100 2 60\n",
      "after i,d[i],u,k 3 100 2 60\n",
      "before i,d[i],u,k 4 9999 2 60\n",
      "after i,d[i],u,k 4 9999 2 60\n",
      "\n",
      "d [0, 230, 60, 100, 9999]\n",
      "Q,u = [1, 3, 4] 2\n",
      "adj =  [3, 4]\n",
      "u,v and all =  2 3 100 100\n",
      "d[v],pi[v] =  100 0\n",
      "u,v and all =  2 4 80 9999\n",
      "d[v],pi[v] =  80 2\n",
      "d,Q [0, 230, 60, 100, 80] [1, 3, 4]\n",
      "before i,d[i],u,k 1 230 1 230\n",
      "after i,d[i],u,k 1 230 1 230\n",
      "before i,d[i],u,k 3 100 1 230\n",
      "1 3 230\n",
      "after i,d[i],u,k 3 100 3 100\n",
      "before i,d[i],u,k 4 80 3 100\n",
      "3 4 100\n",
      "after i,d[i],u,k 4 80 4 80\n",
      "\n",
      "d [0, 230, 60, 100, 80]\n",
      "Q,u = [1, 3] 4\n",
      "adj =  [1, 3]\n",
      "u,v and all =  4 1 90 230\n",
      "d[v],pi[v] =  90 4\n",
      "u,v and all =  4 3 170 100\n",
      "d[v],pi[v] =  100 0\n",
      "d,Q [0, 90, 60, 100, 80] [1, 3]\n",
      "before i,d[i],u,k 1 90 1 90\n",
      "after i,d[i],u,k 1 90 1 90\n",
      "before i,d[i],u,k 3 100 1 90\n",
      "after i,d[i],u,k 3 100 1 90\n",
      "\n",
      "d [0, 90, 60, 100, 80]\n",
      "Q,u = [3] 1\n",
      "adj =  []\n",
      "d,Q [0, 90, 60, 100, 80] [3]\n",
      "before i,d[i],u,k 3 100 3 100\n",
      "after i,d[i],u,k 3 100 3 100\n",
      "\n",
      "d [0, 90, 60, 100, 80]\n",
      "Q,u = [] 3\n",
      "adj =  []\n",
      "[0, 90, 60, 100, 80] [-1, 4, 0, 0, 2]\n"
     ]
    }
   ],
   "source": [
    "w=[[0,230,60,100,0],\n",
    "   [230,0,0,0,10],\n",
    "   [60,0,0,40,20],\n",
    "   [100,0,40,0,90],\n",
    "   [0,10,20,90,0]]\n",
    "r=0\n",
    "V=5\n",
    "E=7\n",
    "dijkstras(w,r,V,E)"
   ]
  },
  {
   "cell_type": "code",
   "execution_count": 21,
   "metadata": {},
   "outputs": [
    {
     "data": {
      "text/plain": [
       "True"
      ]
     },
     "execution_count": 21,
     "metadata": {},
     "output_type": "execute_result"
    }
   ],
   "source": [
    "Q=[1,2,3,4]\n",
    "1 in Q"
   ]
  },
  {
   "cell_type": "code",
   "execution_count": 9,
   "metadata": {},
   "outputs": [],
   "source": [
    "def dijkstras(w,r,V,E):\n",
    "    d=[9999]*V\n",
    "    pi=[-1]*V\n",
    "    print(d,pi)\n",
    "    \n",
    "    d[r]=0\n",
    "    Q=[]\n",
    "    \n",
    "    # append all values of V in Q\n",
    "    for i in range(V):\n",
    "        Q.append(i)\n",
    "    print(Q)\n",
    "    \n",
    "    while(len(Q)!=0):\n",
    "        # to extract minimum from queue\n",
    "        u=Q[0]\n",
    "        for i in Q:\n",
    "            if(d[i]<d[u]):\n",
    "                u=i\n",
    "        Q.remove(u)\n",
    "\n",
    "        # to find adj of u and those in Q\n",
    "        adj=[]\n",
    "        for i in range(V):\n",
    "            if(w[i][u]!=0 and (i in Q)):\n",
    "                adj.append(i)\n",
    "\n",
    "    #     for loop\n",
    "        for v in adj:\n",
    "            if(d[u]+w[u][v] < d[v]):\n",
    "                d[v] = d[u] + w[u][v]\n",
    "                pi[v] = u\n",
    "    print(d,pi)"
   ]
  },
  {
   "cell_type": "code",
   "execution_count": 10,
   "metadata": {},
   "outputs": [
    {
     "name": "stdout",
     "output_type": "stream",
     "text": [
      "[9999, 9999, 9999, 9999, 9999] [-1, -1, -1, -1, -1]\n",
      "[0, 1, 2, 3, 4]\n",
      "[0, 10, 9, 12, 16] [-1, 0, 0, 1, 3]\n"
     ]
    }
   ],
   "source": [
    "w=[[0,10,9,0,0],\n",
    "    [10,0,7,2,0],\n",
    "    [9,7,0,6,0],\n",
    "    [0,2,6,0,4],\n",
    "    [0,0,0,4,0]]\n",
    "r=0\n",
    "V=5\n",
    "E=7\n",
    "dijkstras(w,r,V,E)"
   ]
  },
  {
   "cell_type": "code",
   "execution_count": null,
   "metadata": {},
   "outputs": [],
   "source": []
  },
  {
   "cell_type": "code",
   "execution_count": null,
   "metadata": {},
   "outputs": [],
   "source": []
  }
 ],
 "metadata": {
  "kernelspec": {
   "display_name": "Python 3",
   "language": "python",
   "name": "python3"
  },
  "language_info": {
   "codemirror_mode": {
    "name": "ipython",
    "version": 3
   },
   "file_extension": ".py",
   "mimetype": "text/x-python",
   "name": "python",
   "nbconvert_exporter": "python",
   "pygments_lexer": "ipython3",
   "version": "3.7.6"
  }
 },
 "nbformat": 4,
 "nbformat_minor": 4
}
