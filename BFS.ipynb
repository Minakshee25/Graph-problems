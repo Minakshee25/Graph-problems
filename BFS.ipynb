{
 "cells": [
  {
   "cell_type": "code",
   "execution_count": 6,
   "metadata": {},
   "outputs": [
    {
     "name": "stdout",
     "output_type": "stream",
     "text": [
      "Enter E and V = 4 5\n",
      "1 2\n",
      "1 3\n",
      "1 4\n",
      "3 5\n",
      "1\n",
      "2\n",
      "3\n",
      "4\n",
      "5\n"
     ]
    }
   ],
   "source": [
    "visited=[0]*10\n",
    "adj = [[0]*10 for i in range(10)]\n",
    "def bfs(n,V):\n",
    "    q=[0]*100\n",
    "    r=-1\n",
    "    f=-1\n",
    "    visited[n]=1\n",
    "    r+=1\n",
    "    q[r] = n\n",
    "    while(f!=r):\n",
    "        f+=1\n",
    "        nd = q[f]\n",
    "        print(nd+1)\n",
    "        for i in range(V):\n",
    "            if(adj[nd][i]==1 and visited[i]==0):\n",
    "                visited[i]=1\n",
    "                r+=1\n",
    "                q[r]=i\n",
    "    \n",
    "if __name__=='__main__':\n",
    "    E,V = map(int,input(\"Enter E and V = \").split())\n",
    "    for i in range(E):\n",
    "        u,v = map(int,input().split())\n",
    "        adj[u-1][v-1] = adj[v-1][u-1] = 1\n",
    "    n=1\n",
    "    bfs(n-1,V)"
   ]
  },
  {
   "cell_type": "code",
   "execution_count": 5,
   "metadata": {},
   "outputs": [
    {
     "name": "stdout",
     "output_type": "stream",
     "text": [
      "Enter E and V = 4 4\n",
      "1 2\n",
      "1 3\n",
      "1 4\n",
      "2 3\n",
      "1\n",
      "2\n",
      "3\n",
      "4\n"
     ]
    }
   ],
   "source": [
    "visited=[0]*10\n",
    "adj = [[0]*10 for i in range(10)]\n",
    "def bfs(n,V):\n",
    "    q=[]\n",
    "    visited[n]=1\n",
    "    q.append(n)\n",
    "    while(len(q)!=0):\n",
    "        nd = q.pop(0)\n",
    "        print(nd+1)\n",
    "        for i in range(V):\n",
    "            if(adj[nd][i]==1 and visited[i]==0):\n",
    "                visited[i]=1\n",
    "                q.append(i)\n",
    "    \n",
    "if __name__=='__main__':\n",
    "    E,V = map(int,input(\"Enter E and V = \").split())\n",
    "    for i in range(E):\n",
    "        u,v = map(int,input().split())\n",
    "        adj[u-1][v-1] = adj[v-1][u-1] = 1\n",
    "    n=1\n",
    "    bfs(n-1,V)"
   ]
  },
  {
   "cell_type": "code",
   "execution_count": null,
   "metadata": {},
   "outputs": [],
   "source": []
  }
 ],
 "metadata": {
  "kernelspec": {
   "display_name": "Python 3",
   "language": "python",
   "name": "python3"
  },
  "language_info": {
   "codemirror_mode": {
    "name": "ipython",
    "version": 3
   },
   "file_extension": ".py",
   "mimetype": "text/x-python",
   "name": "python",
   "nbconvert_exporter": "python",
   "pygments_lexer": "ipython3",
   "version": "3.7.6"
  }
 },
 "nbformat": 4,
 "nbformat_minor": 4
}
