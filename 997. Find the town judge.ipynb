{
 "cells": [
  {
   "cell_type": "code",
   "execution_count": null,
   "metadata": {},
   "outputs": [],
   "source": []
  },
  {
   "cell_type": "code",
   "execution_count": 42,
   "metadata": {},
   "outputs": [
    {
     "name": "stdout",
     "output_type": "stream",
     "text": [
      "[[0, 0, 0], [0, 0, 0], [0, 0, 0]]\n",
      "0 1\n",
      "1 2\n"
     ]
    },
    {
     "data": {
      "text/plain": [
       "[[0, 1, 0], [0, 0, 1], [0, 0, 0]]"
      ]
     },
     "execution_count": 42,
     "metadata": {},
     "output_type": "execute_result"
    }
   ],
   "source": [
    "n=3\n",
    "trust=[[1,2],[2,3]]\n",
    "\n",
    "W=[[0]*n for i in range(n)]\n",
    "print(W)\n",
    "\n",
    "for i in trust:\n",
    "    print(i[0]-1,i[1]-1)\n",
    "    W[i[0]-1][i[1]-1] = 1\n",
    "W"
   ]
  },
  {
   "cell_type": "code",
   "execution_count": 43,
   "metadata": {},
   "outputs": [
    {
     "name": "stdout",
     "output_type": "stream",
     "text": [
      "-1\n"
     ]
    }
   ],
   "source": [
    "mx=0\n",
    "index=0\n",
    "for i in range(n):\n",
    "    sm=0\n",
    "    for j in range(n):\n",
    "        sm+=W[j][i]\n",
    "    if(sm>mx):\n",
    "        mx=sm\n",
    "        index=i\n",
    "if(mx==n-1):\n",
    "    sm=0\n",
    "    for i in W[index]:\n",
    "        sm+=i\n",
    "    if(sm==0):\n",
    "        print(index+1)\n",
    "    else:\n",
    "        print(-1)\n",
    "else:\n",
    "    print(-1)"
   ]
  },
  {
   "cell_type": "code",
   "execution_count": null,
   "metadata": {},
   "outputs": [],
   "source": [
    "W=[[0]*n for i in range(n)]\n",
    "\n",
    "for i in trust:\n",
    "    print(i[0]-1,i[1]-1)\n",
    "    W[i[0]-1][i[1]-1] = 1"
   ]
  },
  {
   "cell_type": "code",
   "execution_count": 44,
   "metadata": {},
   "outputs": [],
   "source": []
  },
  {
   "cell_type": "code",
   "execution_count": 48,
   "metadata": {},
   "outputs": [],
   "source": [
    "class Solution(object):\n",
    "    def findJudge(self, n, trust):\n",
    "        W=[[0]*n for i in range(n)]\n",
    "\n",
    "        for i in trust:\n",
    "            W[i[0]-1][i[1]-1] = 1\n",
    "        mx=0\n",
    "        index=0\n",
    "        for i in range(n):\n",
    "            sm=0\n",
    "            for j in range(n):\n",
    "                sm+=W[j][i]\n",
    "            if(sm>mx):\n",
    "                mx=sm\n",
    "                index=i\n",
    "        if(mx==n-1):\n",
    "            sm=0\n",
    "            for i in W[index]:\n",
    "                sm+=i\n",
    "            if(sm==0):\n",
    "                return (index+1)\n",
    "            else:\n",
    "                return (-1)\n",
    "        else:\n",
    "            return (-1)"
   ]
  },
  {
   "cell_type": "code",
   "execution_count": 49,
   "metadata": {},
   "outputs": [
    {
     "data": {
      "text/plain": [
       "-1"
      ]
     },
     "execution_count": 49,
     "metadata": {},
     "output_type": "execute_result"
    }
   ],
   "source": [
    "n=3\n",
    "trust=[[1,2],[2,3]]\n",
    "obj=Solution()\n",
    "obj.findJudge(n,trust)"
   ]
  },
  {
   "cell_type": "code",
   "execution_count": null,
   "metadata": {},
   "outputs": [],
   "source": [
    "# by nisha\n",
    "class Solution(object):\n",
    "    def findJudge(self, n, trust):\n",
    "        trusts=[0]*n\n",
    "        trusted_by = [0]*n\n",
    "        for i in trust:\n",
    "            trusts[i[0]-1] = trusts[i[0]-1]+1\n",
    "            trusted_by[i[1]-1]=trusted_by[i[1]-1]+1\n",
    "        for i in range(n):\n",
    "            if trusts[i]==0 and trusted_by[i]==n-1:\n",
    "                return i+1\n",
    "        return -1\n"
   ]
  }
 ],
 "metadata": {
  "kernelspec": {
   "display_name": "Python 3",
   "language": "python",
   "name": "python3"
  },
  "language_info": {
   "codemirror_mode": {
    "name": "ipython",
    "version": 3
   },
   "file_extension": ".py",
   "mimetype": "text/x-python",
   "name": "python",
   "nbconvert_exporter": "python",
   "pygments_lexer": "ipython3",
   "version": "3.7.6"
  }
 },
 "nbformat": 4,
 "nbformat_minor": 4
}
